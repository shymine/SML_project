{
 "cells": [
  {
   "cell_type": "code",
   "execution_count": 4,
   "metadata": {},
   "outputs": [
    {
     "name": "stdout",
     "output_type": "stream",
     "text": [
      "   Unnamed: 0                                             review  pos\n",
      "0           0  when the haunting arrived in theaters , all i ...    0\n",
      "1           1  movies can do the two big es very well : educa...    0\n",
      "2           2   \" america's sweethearts \" has an intriguing p...    0\n",
      "3           3  remember back in the mid 1990s when crime and ...    0\n",
      "4           4  when i originally saw the trailer for \" analyz...    0\n"
     ]
    }
   ],
   "source": [
    "import pandas\n",
    "\n",
    "path = \"polarity_dataframe.csv\"\n",
    "\n",
    "df = pandas.read_csv(path)\n",
    "print(df.head())\n",
    "\n",
    "review = df.review.tolist()\n",
    "y = df.pos.tolist()"
   ]
  },
  {
   "cell_type": "code",
   "execution_count": 8,
   "metadata": {},
   "outputs": [
    {
     "name": "stdout",
     "output_type": "stream",
     "text": [
      "39659\n"
     ]
    }
   ],
   "source": [
    "from sklearn.feature_extraction.text import CountVectorizer\n",
    "\n",
    "vect = CountVectorizer()\n",
    "\n",
    "vect.fit(review)\n",
    "print(\"Total number of different words: \", len(vect.get_feature_names()))\n"
   ]
  },
  {
   "cell_type": "markdown",
   "metadata": {},
   "source": [
    "It is needed to clean the data from unneeded words: \"stop words\", inintelligible words (\"______\", \"0009f\", ...), |words| <= 2,3."
   ]
  },
  {
   "cell_type": "code",
   "execution_count": 22,
   "metadata": {},
   "outputs": [],
   "source": [
    "def is_only_underscore(word):\n",
    "    return len(word.replace(\"_\", \"\")) == 0\n",
    "\n",
    "from functools import reduce\n",
    "\n",
    "def contains_number(word):\n",
    "    return any(i.isdigit() for i in word)\n",
    "\n",
    "def small_length(word):\n",
    "    return len(word) <= 3\n",
    "\n",
    "def remove_word(word):\n",
    "    return is_only_underscore(word) or contains_number(word) or small_length(word)"
   ]
  },
  {
   "cell_type": "code",
   "execution_count": 31,
   "metadata": {},
   "outputs": [
    {
     "name": "stdout",
     "output_type": "stream",
     "text": [
      "Total number of different words:  38582\n"
     ]
    }
   ],
   "source": [
    "new_review = [\n",
    "    \" \".join([\n",
    "        word for word in sentence.split(\" \") if not remove_word(word)\n",
    "    ]) \n",
    "    for sentence in review\n",
    "]\n",
    "\n",
    "new_vect = CountVectorizer()\n",
    "new_vect.fit(new_review)\n",
    "\n",
    "print(\"Total number of different words: \", len(new_vect.get_feature_names()))\n"
   ]
  },
  {
   "cell_type": "code",
   "execution_count": 28,
   "metadata": {},
   "outputs": [
    {
     "name": "stdout",
     "output_type": "stream",
     "text": [
      "{'when': False, 'the': True, 'haunting': False, 'arrived': False, 'in': True, 'theaters': False, ',': True, 'all': True, 'i': True, 'kept': False, 'hearing': False, 'about': False, 'was': True, 'overdone': False, 'special': False, 'effects': False, 'and': True, 'fact': False, 'that': False, 'very': False, 'often': False, 'unseen': False, 'bumps': False, 'night': False, 'a': True, 'horror': False, 'film': False, 'are': True, 'far': True, 'scarier': False, 'than': False, 'those': False, 'you': True, 'can': True, 'put': True, 'face': False, 'to': True, 'courtesy': False, 'of': True, '.': True, '\\nwhile': False, 'agree': False, 'this': False, 'remake': False, 'goes': False, 'bit': True, 'overboard': False, 'visual': False, 'department': False, \"don't\": False, 'think': False, 'they': False, 'completely': False, 'blame': False, 'for': True, \"movie's\": False, 'failure': False, '\\nit': True, 'appears': False, 'some': False, 'people': False, 'have': False, 'failed': False, 'take': False, 'into': False, 'account': False, 'original': False, 'had': True, '\"': True, 'terrors': False, 'it': True, 'as': True, 'scary': False, 'dust': False, 'bunny': False, '\\nso': True, 'or': True, 'not': True, 'if': True, 'story': False, \"isn't\": False, 'least': False, \"aren't\": False, 'going': False, 'end': True, 'up': True, 'with': False, 'frightening': False, 'movie': False, '\\nthe': False, 'thing': False, 'interested': False, 'me': True, 'most': False, 'caretaker': False, 'building': False, 'played': False, 'by': True, 'bruce': False, 'dern': False, '\\ndern': False, 'is': True, 'always': False, 'great': False, 'even': False, 'though': False, 'he': True, 'may': True, 'only': False, '3': True, 'minutes': False, 'screen': False, 'time': False, 'still': False, 'interesting': False, 'element': False, '\\nas': True, 'sat': True, 'through': False, 'seemingly': False, 'endless': False, 'albeit': False, 'fairly': False, 'impressive': False, 'wishing': False, \"dern's\": False, 'one': True, 'dimensional': False, 'characters': False, 'populated': False, 'cast': False, '\\nnever': False, 'good': False, 'sign': False, 'player': False, 'best': False, 'part': False, '\\nliam': False, 'neeson': False, 'plays': False, 'scientist': False, 'who': True, 'conducting': False, 'experiments': False, 'on': True, 'fear': False, '\\nhe': True, 'decides': False, 'way': True, 'get': True, 'results': False, 'trick': False, 'group': False, 'unstable': False, 'individuals': False, 'spend': False, 'few': True, 'days': False, 'haunted': False, 'mansion': False, 'tricks': False, 'them': False, 'participating': False, 'letting': False, 'an': True, 'experiment': False, 'insomnia': False, '\\nand': False, 'also': False, 'fails': False, 'mention': False, 'has': True, 'reputation': False, 'strange': False, 'goings-on': False, '\\ncatherine': False, 'zeta-jones': False, 'lili': False, 'taylor': False, 'owen': False, 'wilson': False, 'play': False, 'his': True, 'subjects': False, '\\nlike': False, \"taylor's\": False, 'character': False, 'star': False, '\\nbut': False, 'since': False, 'she': True, \"doesn't\": False, 'quite': False, 'marquee': False, 'power': False, 'liam': False, 'ms': True, 'their': False, 'parts': False, 'did': True, 'seem': False, 'be': True, 'big': True, 'larger': False, \"let's\": False, 'probably': False, 'half': False, 'see': True, 'will': False, 'do': True, 'so': True, 'because': False, \"\\ni'll\": False, 'admit': False, 'would': False, 'never': False, 'seen': False, \"weren't\": False, 'real': False, 'stars': False, 'here': False, 'combined': False, 'sets': False, '\\nthey': False, 'over': False, 'supernatural': False, 'elements': False, 'house': False, 'start': False, 'interact': False, 'our': True, 'hapless': False, 'patients': False, '\\nthere': False, 'really': False, 'much': False, '\\njust': False, 'setups': False, 'director': False, 'jan': True, 'de': True, 'bont': False, 'showcase': False, 'nifty': False, 'got': True, '\\nin': True, 'many': False, 'cases': False, 'likely': False, 'anywhere': False, 'other': False, 'obviously': False, 'thrown': False, 'just': False, 'sake': False, 'hitting': False, 'cool': False, 'shots': False, 'quota': False, '\\nat': True, 'no': True, 'point': False, 'any': True, 'these': False, 'things': False, 'ever': False, 'come': False, 'close': False, 'being': False, '--': True, 'funny': False, 'maybe': False, '\\nthen': False, 'we': True, 'set': True, '\\nwhen': False, 'first': False, 'saw': True, 'impressed': False, 'gothic': False, 'look': False, 'took': False, 'short': False, 'tour': False, 'around': False, 'place': False, 'designers': False, 'money': False, 'burn': False, 'decided': False, 'idiotically': False, 'route': False, '\\nthis': False, 'included': False, 'flooded': False, 'hallway': False, 'books': False, 'stepping': False, 'stones': False, 'mirrored': False, 'circular': False, 'room': False, 'revolves': False, '\\nwhat': False, 'rooms': False, '?': True, '\\nabsolutely': False, 'none': False, 'were': False, 'there': False, 'minds': False, 'off': True, 'neither': False, 'descent': False, 'nor': True, 'single': False, 'scare': False, 'entire': False, 'actors': False, '\\nlili': False, 'been': False, 'my': True, 'favorites': False, 'her': True, 'mousy': False, 'pathetic': False, 'factored': False, 'comes': False, 'average': False, 'slightly': False, 'below': False, 'mark': False, '\\ni': True, 'idea': False, 'why': True, 'role': False, 'basically': False, 'reminded': False, 'ringmaster': False, 'at': True, 'out': True, 'control': False, 'circus': False, '\\nhis': False, 'charge': False, 'farce': False, 'but': True, 'quickly': False, 'away': False, 'from': False, 'him': True, 'doubt': False, 'want': False, 'lock': False, 'prints': False, 'secure': False, 'vault': False, 'along': False, 'copies': False, 'darkman': False, '\\nzeta-jones': False, 'too': True, 'hot': True, 'words': False, 'bi-sexual': False, 'icing': False, 'cake': False, '\\nall': False, 'catherine': False, '\\nfortunately': False, 'something': False, 'does': False, 'well': False, 'size': False, 'obvious': False, 'purpose': False, 'eye-candy': False, \"\\nit's\": False, 'bad': True, 'someone': False, 'talents': False, 'wasted': False, '\\nany': False, 'random': False, 'supermodel': False, 'pulled': False, 'fashion': False, 'show': False, 'could': False, 'easily': False, 'filled': False, 'antithesis': False, 'another': False, \"1999's\": True, 'movies': False, 'blair': False, 'witch': False, 'project': False, 'limitless': False, 'budget': False, 'while': False, 'relies': False, 'piles': False, 'rocks': False, 'its': True, 'scares': False, '\\nboth': False, 'prove': False, 'nicely': False, 'irrelevant': False, '\\nif': True, 'sucks': False, \"it's\": False, 'downhill': False, '\\nmy': True, 'advice': False, 'looking': False, 'go': True, 'rent': False, 'wars': False, 'halloween': False, '\\neither': False, 'your': False, 'interests': False, 'skip': False, '\\n': True}\n"
     ]
    }
   ],
   "source": [
    "result = {}\n",
    "for word in review[0].split(\" \"):\n",
    "    result[word] = remove_word(word)\n",
    "print(result)"
   ]
  },
  {
   "cell_type": "markdown",
   "metadata": {},
   "source": [
    "! PB with remove word"
   ]
  }
 ],
 "metadata": {
  "interpreter": {
   "hash": "66abf74f23d18227afe552ff9f9480890a77af1f34e974821461d5d06488139d"
  },
  "kernelspec": {
   "display_name": "Python 3 (ipykernel)",
   "language": "python",
   "name": "python3"
  },
  "language_info": {
   "codemirror_mode": {
    "name": "ipython",
    "version": 3
   },
   "file_extension": ".py",
   "mimetype": "text/x-python",
   "name": "python",
   "nbconvert_exporter": "python",
   "pygments_lexer": "ipython3",
   "version": "3.7.3"
  }
 },
 "nbformat": 4,
 "nbformat_minor": 2
}

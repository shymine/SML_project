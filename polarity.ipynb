{
 "cells": [
  {
   "cell_type": "code",
   "execution_count": 1,
   "metadata": {},
   "outputs": [
    {
     "name": "stdout",
     "output_type": "stream",
     "text": [
      "   Unnamed: 0                                             review  pos\n",
      "0           0  when the haunting arrived in theaters , all i ...    0\n",
      "1           1  movies can do the two big es very well : educa...    0\n",
      "2           2   \" america's sweethearts \" has an intriguing p...    0\n",
      "3           3  remember back in the mid 1990s when crime and ...    0\n",
      "4           4  when i originally saw the trailer for \" analyz...    0\n"
     ]
    }
   ],
   "source": [
    "import pandas\n",
    "\n",
    "path = \"polarity_dataframe.csv\"\n",
    "\n",
    "df = pandas.read_csv(path)\n",
    "print(df.head())\n",
    "\n",
    "review = df.review.tolist()\n",
    "y = df.pos.tolist()\n"
   ]
  },
  {
   "cell_type": "markdown",
   "metadata": {},
   "source": [
    "Many unneeded words: \"stop words\" remains, inintelligible words (\"______\", \"0009f\", ...), |words| <= 2,3."
   ]
  },
  {
   "cell_type": "code",
   "execution_count": 2,
   "metadata": {},
   "outputs": [],
   "source": [
    "def is_only_underscore(word):\n",
    "    return len(word.replace(\"_\", \"\")) == 0\n",
    "\n",
    "def is_only_dash(word):\n",
    "    return len(word.replace(\"-\", \"\")) == 0\n",
    "\n",
    "from functools import reduce\n",
    "\n",
    "def contains_number(word):\n",
    "    return any(i.isdigit() for i in word)\n",
    "\n",
    "def small_length(word):\n",
    "    return len(word) == 1 and (word!='i' or word!='a')\n",
    "\n",
    "def remove_word(word):\n",
    "    return is_only_underscore(word) or contains_number(word) or small_length(word) "
   ]
  },
  {
   "cell_type": "code",
   "execution_count": 3,
   "metadata": {},
   "outputs": [
    {
     "name": "stdout",
     "output_type": "stream",
     "text": [
      "New Sentences: \n",
      " when the haunting arrived in theaters all kept hearing about was the overdone special effects and the fact that very often the unseen bumps in the night in horror film are far scarier than those that you can put face to courtesy of special effects while agree that this remake of the haunting goes bit overboard in the visual effects department don't think that they are completely to blame for this movie's failure it appears that some people have failed to take into account that the original haunting had the unseen terrors and it was about as scary as dust bunny so special effects or not if the story isn't the least bit scary you aren't going to end up with very frightening movie the thing that interested me most about this movie was the caretaker of this building played by bruce dern dern is always great and even though he may have had only about minutes of screen time he was still the most interesting element of the movie as sat through the seemingly endless albeit fairly impressive special effects kept wishing that this movie was about dern's caretaker and not the one dimensional characters that populated the cast never good sign when bit player is the best part of the movie liam neeson plays scientist who is conducting experiments on fear he decides the best way to get results is to trick group of fairly unstable individuals to spend few days in haunted mansion he tricks them into participating by letting on that he is conducting an experiment on insomnia and he also fails to mention that the mansion has reputation for strange goings-on catherine zeta-jones lili taylor and owen wilson play his subjects like the original taylor's character is the star of the movie but since she doesn't quite have the marquee power of liam neeson and ms zeta-jones their parts did seem to be big larger than in the original and let's face it probably half the people who see this movie will do so because of zeta-jones i'll admit that would have never seen this thing if she weren't in it but the real stars here is the special effects combined with the fairly overdone sets they take over the movie as the supernatural elements of the house start to interact with our hapless insomnia patients there really isn't much of story here just endless setups so director jan de bont can showcase all the nifty special effects that he got to play with and the special effects are great in many cases they are as good as you are likely to see anywhere in other cases they are overdone and obviously thrown in just for the sake of hitting the cool shots quota at no point in the movie do any of these things ever come close to being scary -- funny maybe but not scary then we have the set when first saw the house was very impressed with the very cool gothic look about it but it only took short tour by the characters around the place to see that the set designers obviously had as much money to burn as the visual effects people did and decided to take the idiotically overdone route this included flooded hallway with books as stepping stones and mirrored circular room that revolves what part did these rooms play in the story absolutely none they were just there to take our minds off the fact that there was neither descent story nor single scare in the entire movie then we have the actors lili taylor has never been one of my favorites and when the fact that her character is mousy and pathetic is factored in she comes in around the average or slightly below mark have no idea why liam neeson took this role he basically reminded me of the ringmaster at an out of control circus his character was in charge of this farce but it quickly got away from him have no doubt that liam will want to lock all prints of this movie in very secure vault along with all copies of darkman zeta-jones was cast because she is too hot for words the fact that her character is bi-sexual is just icing on the cake all catherine has to do in this movie is look good fortunately that is something she does very well while she does have fairly good size part it is obvious that her only purpose in the movie was as eye-candy it's too bad someone of her talents wasted them here any random supermodel pulled out of fashion show could have easily filled her role the haunting is the antithesis of another of horror movies the blair witch project the haunting had seemingly limitless effects budget while blair witch relies on piles of rocks for its scares both prove quite nicely that special effects are irrelevant to horror film if the story sucks it's all downhill from there my advice if you are looking for special effects go rent star wars if it's scares you want rent halloween either way it's probably in your best interests to skip the haunting\n"
     ]
    }
   ],
   "source": [
    "new_review=[]\n",
    "for sentence in review[:1]:\n",
    "    new_sentence=[]\n",
    "    for word in (sentence.strip()).split():\n",
    "        if not remove_word(word):\n",
    "            new_sentence.append(word)\n",
    "\n",
    "    new_review.append(' '.join(new_sentence))\n",
    "    #print(sentence)\n",
    "\n",
    "\n",
    "print(\"New Sentences: \\n\", new_review[0])\n"
   ]
  },
  {
   "cell_type": "code",
   "execution_count": 4,
   "metadata": {},
   "outputs": [
    {
     "name": "stdout",
     "output_type": "stream",
     "text": [
      "Data list length : \n",
      " Train :  1500 Test :  500\n"
     ]
    }
   ],
   "source": [
    "# Split the dataframe to train and Test sets\n",
    "\n",
    "from sklearn.model_selection import train_test_split\n",
    "review_train, review_test, y_train, y_test = train_test_split(review, y, random_state=1)\n",
    "\n",
    "print('Data list length : \\n Train : ',len(review_train),'Test : ',len(review_test))"
   ]
  },
  {
   "cell_type": "code",
   "execution_count": 5,
   "metadata": {},
   "outputs": [
    {
     "name": "stdout",
     "output_type": "stream",
     "text": [
      "Total number of different words:  35321\n"
     ]
    }
   ],
   "source": [
    "from sklearn.feature_extraction.text import CountVectorizer\n",
    "# import and instantiate CountVectorizer (with the default parameters)\n",
    "vect = CountVectorizer() \n",
    "\n",
    "# learn training data vocabulary, then use it to create a document-term matrix\n",
    "vect.fit(review_train)\n",
    "review_train_dtm = vect.transform(review_train)\n",
    "# or equivalently: combine fit and transform into a single step\n",
    "#X_train_dtm = vect.fit_transform(X_train)\n",
    "\n",
    "print(\"Total number of different words: \", len(vect.get_feature_names()))\n"
   ]
  },
  {
   "cell_type": "code",
   "execution_count": 6,
   "metadata": {},
   "outputs": [],
   "source": [
    "# transform testing data (using fitted vocabulary) into a document-term matrix\n",
    "review_test_dtm = vect.transform(review_test)\n"
   ]
  },
  {
   "cell_type": "markdown",
   "metadata": {},
   "source": [
    "## Building and evaluating a model\n",
    "\n",
    "We will use [multinomial Naive Bayes](http://scikit-learn.org/stable/modules/generated/sklearn.naive_bayes.MultinomialNB.html):\n",
    "\n",
    "> The multinomial Naive Bayes classifier is suitable for classification with **discrete features** (e.g., word counts for text classification). The multinomial distribution normally requires integer feature counts. However, in practice, fractional counts such as tf-idf may also work."
   ]
  },
  {
   "cell_type": "code",
   "execution_count": 7,
   "metadata": {},
   "outputs": [
    {
     "name": "stdout",
     "output_type": "stream",
     "text": [
      "Wall time: 17.1 ms\n"
     ]
    },
    {
     "data": {
      "text/plain": [
       "MultinomialNB()"
      ]
     },
     "execution_count": 7,
     "metadata": {},
     "output_type": "execute_result"
    }
   ],
   "source": [
    "# import and instantiate a Multinomial Naive Bayes model\n",
    "from sklearn.naive_bayes import MultinomialNB\n",
    "nb = MultinomialNB()\n",
    "\n",
    "# train the model using X_train_dtm (timing it with an IPython \"magic command\")\n",
    "%time nb.fit(review_train_dtm, y_train)"
   ]
  },
  {
   "cell_type": "code",
   "execution_count": 8,
   "metadata": {},
   "outputs": [],
   "source": [
    "# make class predictions for test sentences (using X_test_dtm representation)\n",
    "y_pred_class = nb.predict(review_test_dtm)\n",
    "\n",
    "# tranformation into a boolean array\n",
    "#print(y_pred_class==1)\n",
    "\n",
    "# some sms predicted as spam\n",
    "#print(review_test[y_pred_class==1].head())\n",
    "pairs={ y_pred_class[i] : review_test[i] for i in range(len(review_test))}\n",
    "\n",
    "#print(pairs[0])"
   ]
  },
  {
   "cell_type": "code",
   "execution_count": 9,
   "metadata": {},
   "outputs": [
    {
     "name": "stdout",
     "output_type": "stream",
     "text": [
      "Accuracy :\n",
      "0.79\n",
      "Confusion matrix :\n"
     ]
    },
    {
     "data": {
      "text/plain": [
       "array([[207,  48],\n",
       "       [ 57, 188]], dtype=int64)"
      ]
     },
     "execution_count": 9,
     "metadata": {},
     "output_type": "execute_result"
    }
   ],
   "source": [
    "# compute accuracy of class predictions\n",
    "from sklearn import metrics\n",
    "print('Accuracy :')\n",
    "print(metrics.accuracy_score(y_test, y_pred_class))\n",
    "\n",
    "# compute the confusion matrix\n",
    "print('Confusion matrix :')\n",
    "metrics.confusion_matrix(y_test, y_pred_class)"
   ]
  },
  {
   "cell_type": "code",
   "execution_count": 10,
   "metadata": {},
   "outputs": [
    {
     "data": {
      "image/png": "[encoded data removed]",
      "text/plain": [
       "<Figure size 432x288 with 1 Axes>"
      ]
     },
     "metadata": {
      "needs_background": "light"
     },
     "output_type": "display_data"
    }
   ],
   "source": [
    "#Graphic representation of the ROC curve\n",
    "\n",
    "import numpy as np\n",
    "from sklearn.metrics import roc_curve\n",
    "fpr, tpr, thresholds = roc_curve(y_test, y_pred_class, pos_label=1)\n",
    "\n",
    "# calculate AUC (area uder the ROC curve)\n",
    "auc = metrics.roc_auc_score(y_test, y_pred_class)\n",
    "auc\n",
    "\n",
    "import matplotlib.pyplot as plt\n",
    "plt.plot(fpr,tpr,label=f\"Naive Bayes, auc={auc:.5}\")\n",
    "plt.legend(loc=4)\n",
    "plt.show()\n",
    "\n"
   ]
  },
  {
   "cell_type": "markdown",
   "metadata": {},
   "source": [
    "## Tuning the vectorizer (discussion)\n",
    "\n",
    "So far, we have been using the default parameters of [CountVectorizer](http://scikit-learn.org/stable/modules/generated/sklearn.feature_extraction.text.CountVectorizer.html):\n",
    "\n",
    "Let's try to remove English stop words using the implement method then change the length of words taken in account "
   ]
  },
  {
   "cell_type": "code",
   "execution_count": 16,
   "metadata": {},
   "outputs": [
    {
     "name": "stdout",
     "output_type": "stream",
     "text": [
      "New total number of different features:  415234\n"
     ]
    },
    {
     "data": {
      "text/plain": [
       "{'analyzer': 'word',\n",
       " 'binary': False,\n",
       " 'decode_error': 'strict',\n",
       " 'dtype': numpy.int64,\n",
       " 'encoding': 'utf-8',\n",
       " 'input': 'content',\n",
       " 'lowercase': True,\n",
       " 'max_df': 0.5,\n",
       " 'max_features': None,\n",
       " 'min_df': 1,\n",
       " 'ngram_range': (1, 2),\n",
       " 'preprocessor': None,\n",
       " 'stop_words': 'english',\n",
       " 'strip_accents': None,\n",
       " 'token_pattern': '(?u)\\\\b\\\\w\\\\w+\\\\b',\n",
       " 'tokenizer': None,\n",
       " 'vocabulary': None}"
      ]
     },
     "execution_count": 16,
     "metadata": {},
     "output_type": "execute_result"
    }
   ],
   "source": [
    "# Crete the new vect :\n",
    "# remove English stop words\n",
    "# include 1-grams and 2-grams\n",
    "# ignore terms that appear in more than 50% of the comments\n",
    "new_vect = CountVectorizer(stop_words='english',ngram_range=(1, 2),max_df=0.5)\n",
    "\n",
    "new_review_train_dtm = new_vect.fit_transform(review_train)\n",
    "\n",
    "# transform testing data (using fitted vocabulary) into a document-term matrix\n",
    "new_review_test_dtm = new_vect.transform(review_test)\n",
    "\n",
    "print(\"New total number of different features: \", len(new_vect.get_feature_names()))\n",
    "\n",
    "# show new parameters :\n",
    "new_vect.get_params()"
   ]
  },
  {
   "cell_type": "code",
   "execution_count": 12,
   "metadata": {},
   "outputs": [
    {
     "data": {
      "text/plain": [
       "MultinomialNB()"
      ]
     },
     "execution_count": 12,
     "metadata": {},
     "output_type": "execute_result"
    }
   ],
   "source": [
    "# Train the naive Bayes based on the new features\n",
    "new_nb = MultinomialNB()\n",
    "new_nb.fit(new_review_train_dtm, y_train)"
   ]
  },
  {
   "cell_type": "code",
   "execution_count": 13,
   "metadata": {},
   "outputs": [
    {
     "name": "stdout",
     "output_type": "stream",
     "text": [
      "New accuracy :\n",
      "0.796\n"
     ]
    },
    {
     "data": {
      "image/png": "[encoded data removed]",
      "text/plain": [
       "<Figure size 432x288 with 1 Axes>"
      ]
     },
     "metadata": {
      "needs_background": "light"
     },
     "output_type": "display_data"
    }
   ],
   "source": [
    "# Test the tuned training\n",
    "y_pred_new = new_nb.predict(new_review_test_dtm)\n",
    "y_pred_new\n",
    "\n",
    "print('New accuracy :')\n",
    "print(metrics.accuracy_score(y_test, y_pred_new))\n",
    "\n",
    "# Graphic comparaison :\n",
    "new_fpr, new_tpr, new_thresholds = roc_curve(y_test, y_pred_new, pos_label=1)\n",
    "\n",
    "# calculate AUC (area uder the ROC curve)\n",
    "new_auc = metrics.roc_auc_score(y_test, y_pred_new)\n",
    "\n",
    "plt.plot(fpr,tpr,label=f\"Naive Bayes, auc={auc:.5}\")\n",
    "plt.plot(new_fpr,new_tpr,label=f\"Naive Bayes (tuned training), auc={new_auc:.5}\")\n",
    "plt.legend(loc=4)\n",
    "plt.show()"
   ]
  },
  {
   "cell_type": "code",
   "execution_count": null,
   "metadata": {},
   "outputs": [],
   "source": []
  }
 ],
 "metadata": {
  "interpreter": {
   "hash": "66abf74f23d18227afe552ff9f9480890a77af1f34e974821461d5d06488139d"
  },
  "kernelspec": {
   "display_name": "Python 3",
   "language": "python",
   "name": "python3"
  },
  "language_info": {
   "codemirror_mode": {
    "name": "ipython",
    "version": 3
   },
   "file_extension": ".py",
   "mimetype": "text/x-python",
   "name": "python",
   "nbconvert_exporter": "python",
   "pygments_lexer": "ipython3",
   "version": "3.8.3"
  }
 },
 "nbformat": 4,
 "nbformat_minor": 2
}
